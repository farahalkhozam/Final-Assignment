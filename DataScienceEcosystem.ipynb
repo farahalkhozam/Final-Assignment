{
 "cells": [
  {
   "cell_type": "markdown",
   "id": "3c2c9d38-a917-421f-98a7-6b6e28a2442c",
   "metadata": {},
   "source": [
    "# Data Science Tools and Ecosystem"
   ]
  },
  {
   "cell_type": "markdown",
   "id": "3af7501c-4527-4943-9ff4-0859a6e88b3c",
   "metadata": {},
   "source": [
    "In this notebook, Data Science Tools and Ecosystem are summarized."
   ]
  },
  {
   "cell_type": "markdown",
   "id": "f3e9bf77-a1ba-4c06-a00e-2618e65b394c",
   "metadata": {},
   "source": [
    "**Objectives:**\n",
    "- Learn about Jupter\n",
    "- Learn about Github\n",
    "- Explore data science\n",
    "-  Understanding data science"
   ]
  },
  {
   "cell_type": "markdown",
   "id": "0e41cf03-2161-49ea-8597-cea4f2d955a4",
   "metadata": {},
   "source": [
    "Some of the popular languages that Data Scientists use are:\n",
    "1. C++\n",
    "2. Python\n",
    "3. Java\n",
    "4. Ruby\n",
    "5. SQL"
   ]
  },
  {
   "cell_type": "markdown",
   "id": "4991571f-e83b-4cd0-af13-13fa53019656",
   "metadata": {},
   "source": [
    "Some of the commonly used libraries used by Data Scientists include:\n",
    "1. Panda \n",
    "2. Matlab\n",
    "3. Ploty\n"
   ]
  },
  {
   "cell_type": "markdown",
   "id": "156a4ef9-df03-4ed4-9b88-dab558eed197",
   "metadata": {},
   "source": [
    "| Data Science Tools |\n",
    "| ------------------ |\n",
    "| Python             |\n",
    "| PyTourch           |\n",
    "| Matlab             |"
   ]
  },
  {
   "cell_type": "markdown",
   "id": "89b0defd-dfa6-434a-8711-610f8a30c03b",
   "metadata": {},
   "source": [
    "### Below are a few examples of evaluating arithmetic expressions in Python"
   ]
  },
  {
   "cell_type": "markdown",
   "id": "c115d624-844b-47a3-b29a-da50f272f37b",
   "metadata": {},
   "source": [
    "This a simple arithmetic expression to mutiply then add integers"
   ]
  },
  {
   "cell_type": "code",
   "execution_count": 3,
   "id": "d8aa59d6-3733-40a1-8f20-33e4ab9373f2",
   "metadata": {},
   "outputs": [
    {
     "data": {
      "text/plain": [
       "17"
      ]
     },
     "execution_count": 3,
     "metadata": {},
     "output_type": "execute_result"
    }
   ],
   "source": [
    "(3*4)+5"
   ]
  },
  {
   "cell_type": "markdown",
   "id": "8d89ae83-3472-4598-bbde-c09838b4e317",
   "metadata": {},
   "source": [
    "This will convert 200 minutes to hours by diving by 60"
   ]
  },
  {
   "cell_type": "code",
   "execution_count": 6,
   "id": "eafb7398-9d2e-414b-ae65-5641eb87e919",
   "metadata": {},
   "outputs": [
    {
     "data": {
      "text/plain": [
       "3.3333333333333335"
      ]
     },
     "execution_count": 6,
     "metadata": {},
     "output_type": "execute_result"
    }
   ],
   "source": [
    "x= 200  #200 minutes\n",
    "y= 60  #1 hour = 60 minutes\n",
    "x/y"
   ]
  },
  {
   "cell_type": "markdown",
   "id": "9a687008-532f-4b3c-9ec7-4e07b91a041a",
   "metadata": {},
   "source": [
    "## Author \n"
   ]
  },
  {
   "cell_type": "markdown",
   "id": "95aae4c2-9633-4b1e-8cdf-9e9e860e52d2",
   "metadata": {},
   "source": [
    "Farah Khaled Ali AlKhuzam"
   ]
  }
 ],
 "metadata": {
  "kernelspec": {
   "display_name": "Python 3 (ipykernel)",
   "language": "python",
   "name": "python3"
  },
  "language_info": {
   "codemirror_mode": {
    "name": "ipython",
    "version": 3
   },
   "file_extension": ".py",
   "mimetype": "text/x-python",
   "name": "python",
   "nbconvert_exporter": "python",
   "pygments_lexer": "ipython3",
   "version": "3.12.8"
  }
 },
 "nbformat": 4,
 "nbformat_minor": 5
}
